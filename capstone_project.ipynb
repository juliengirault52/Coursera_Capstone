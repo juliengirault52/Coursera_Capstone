{
 "cells": [
  {
   "cell_type": "markdown",
   "metadata": {},
   "source": [
    "#### *IBM Data Science Certification Capstone Project - authored by Julien Girault, data scientist scholar*\n",
    "# Find your Favourite Tube Station before Moving to London!\n",
    "\n",
    "## Project introduction\n",
    "\n",
    "Many French people move from Paris to London to improve their English and live a new experience there.\n",
    "\n",
    "But what is the best place they should choose for settling down?\n",
    "\n",
    "When moving to a new city, one will likely choose their new address based on public transports: they will search the lines that can bring them quickly and directly from their new home to their office.\n",
    "\n",
    "__\"London tube\" and \" Paris métro\" public transports are comparably big with approximately 400 stations__... So here is the question that comes next: how can one know the kind of surroundings they are likely to find around each station? How can they decide where to settle down? Which station should they prefer with so many possibilities?\n",
    "\n",
    "This project will give French newcomers the opportunity to find the list of tube stations in London that best fit their taste, based on a comparison with something they already know: Paris' stations!\n",
    "\n",
    "For each London tube station, we will expose a list of Paris stations that are similar.\n",
    "\n",
    "To reach that goal, we will train an AI clustering model to find which tube stations are similar to each French station.\n",
    "\n",
    "\n",
    "## Data Description\n",
    "\n",
    "For this project, I downloaded the transports stations coordinates released by the public services for both London [1] and Paris [2].\n",
    "\n",
    "In the main section of the project, I will use the Foursquare API with each station coordinates to explore the list of venues reachable within a five-minute walk.\n",
    "\n",
    "It might be necessary to help manually with the matching of venues categories, for instance, to transform \"pubs\" into \"bars\", or change \"bed & breakfast\" to \"hotel\".\n",
    "\n",
    "## References\n",
    "\n",
    "[1] [London Tube Stations List (CSV)](https://www.whatdotheyknow.com/request/512947/response/1238210/attach/3/Stations%2020180921.csv.txt?cookie_passthrough=1),\n",
    "\n",
    "[2] [Paris Transports Stations List website](https://data.iledefrance-mobilites.fr/explore/dataset/emplacement-des-gares-idf/table/?refine.mode=Metro)\n",
    "\n"
   ]
  },
  {
   "cell_type": "code",
   "execution_count": null,
   "metadata": {},
   "outputs": [],
   "source": []
  }
 ],
 "metadata": {
  "kernelspec": {
   "display_name": "Python",
   "language": "python",
   "name": "conda-env-python-py"
  },
  "language_info": {
   "codemirror_mode": {
    "name": "ipython",
    "version": 3
   },
   "file_extension": ".py",
   "mimetype": "text/x-python",
   "name": "python",
   "nbconvert_exporter": "python",
   "pygments_lexer": "ipython3",
   "version": "3.6.12"
  }
 },
 "nbformat": 4,
 "nbformat_minor": 4
}
